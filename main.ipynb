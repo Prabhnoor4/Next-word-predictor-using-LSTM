{
 "cells": [
  {
   "cell_type": "code",
   "execution_count": 3,
   "metadata": {},
   "outputs": [],
   "source": [
    "import pandas as pd\n",
    "import numpy as np\n",
    "import string\n",
    "import tensorflow as tf\n",
    "import keras"
   ]
  },
  {
   "cell_type": "code",
   "execution_count": 4,
   "metadata": {},
   "outputs": [],
   "source": [
    "df=pd.read_csv(\"/Users/prabhnoorsingh/Downloads/US_Crime_Data.csv\")\n"
   ]
  },
  {
   "cell_type": "code",
   "execution_count": 5,
   "metadata": {},
   "outputs": [
    {
     "data": {
      "text/html": [
       "<div>\n",
       "<style scoped>\n",
       "    .dataframe tbody tr th:only-of-type {\n",
       "        vertical-align: middle;\n",
       "    }\n",
       "\n",
       "    .dataframe tbody tr th {\n",
       "        vertical-align: top;\n",
       "    }\n",
       "\n",
       "    .dataframe thead th {\n",
       "        text-align: right;\n",
       "    }\n",
       "</style>\n",
       "<table border=\"1\" class=\"dataframe\">\n",
       "  <thead>\n",
       "    <tr style=\"text-align: right;\">\n",
       "      <th></th>\n",
       "      <th>Date</th>\n",
       "      <th>Title</th>\n",
       "      <th>Organization</th>\n",
       "      <th>City</th>\n",
       "      <th>State</th>\n",
       "      <th>URL</th>\n",
       "      <th>Keyword</th>\n",
       "      <th>Summary</th>\n",
       "    </tr>\n",
       "  </thead>\n",
       "  <tbody>\n",
       "    <tr>\n",
       "      <th>0</th>\n",
       "      <td>2/13/17 9:01</td>\n",
       "      <td>Pizza Hut driver who killed co-worker with sho...</td>\n",
       "      <td>LGBTQ Nation</td>\n",
       "      <td>Phoenix</td>\n",
       "      <td>AZ</td>\n",
       "      <td>http://www.lgbtqnation.com/2017/02/man-accused...</td>\n",
       "      <td>NaN</td>\n",
       "      <td>NaN</td>\n",
       "    </tr>\n",
       "    <tr>\n",
       "      <th>1</th>\n",
       "      <td>2/13/17 9:37</td>\n",
       "      <td>Residents of NJ township receiving KKK promoti...</td>\n",
       "      <td>New York Daily News</td>\n",
       "      <td>NaN</td>\n",
       "      <td>NaN</td>\n",
       "      <td>http://www.nydailynews.com/news/national/resid...</td>\n",
       "      <td>NaN</td>\n",
       "      <td>NaN</td>\n",
       "    </tr>\n",
       "    <tr>\n",
       "      <th>2</th>\n",
       "      <td>2/13/17 15:37</td>\n",
       "      <td>House OKs bill to expand Kentucky's hate crime...</td>\n",
       "      <td>FOX19</td>\n",
       "      <td>Cincinnati</td>\n",
       "      <td>OH</td>\n",
       "      <td>http://www.fox19.com/story/34494432/house-oks-...</td>\n",
       "      <td>NaN</td>\n",
       "      <td>NaN</td>\n",
       "    </tr>\n",
       "    <tr>\n",
       "      <th>3</th>\n",
       "      <td>2/13/17 16:56</td>\n",
       "      <td>Amid Protests, 'Blue Lives Matter' Bill Passes...</td>\n",
       "      <td>89.3 WFPL</td>\n",
       "      <td>Louisville</td>\n",
       "      <td>KY</td>\n",
       "      <td>http://wfpl.org/amid-protests-blue-lives-matte...</td>\n",
       "      <td>NaN</td>\n",
       "      <td>NaN</td>\n",
       "    </tr>\n",
       "    <tr>\n",
       "      <th>4</th>\n",
       "      <td>2/13/17 18:37</td>\n",
       "      <td>Lafourche inmates charged with hate crimes in ...</td>\n",
       "      <td>Daily Comet</td>\n",
       "      <td>Thibodaux</td>\n",
       "      <td>LA</td>\n",
       "      <td>http://www.dailycomet.com/news/20170213/lafour...</td>\n",
       "      <td>NaN</td>\n",
       "      <td>NaN</td>\n",
       "    </tr>\n",
       "  </tbody>\n",
       "</table>\n",
       "</div>"
      ],
      "text/plain": [
       "            Date                                              Title  \\\n",
       "0   2/13/17 9:01  Pizza Hut driver who killed co-worker with sho...   \n",
       "1   2/13/17 9:37  Residents of NJ township receiving KKK promoti...   \n",
       "2  2/13/17 15:37  House OKs bill to expand Kentucky's hate crime...   \n",
       "3  2/13/17 16:56  Amid Protests, 'Blue Lives Matter' Bill Passes...   \n",
       "4  2/13/17 18:37  Lafourche inmates charged with hate crimes in ...   \n",
       "\n",
       "          Organization        City State  \\\n",
       "0         LGBTQ Nation     Phoenix    AZ   \n",
       "1  New York Daily News         NaN   NaN   \n",
       "2                FOX19  Cincinnati    OH   \n",
       "3            89.3 WFPL  Louisville    KY   \n",
       "4          Daily Comet   Thibodaux    LA   \n",
       "\n",
       "                                                 URL Keyword Summary  \n",
       "0  http://www.lgbtqnation.com/2017/02/man-accused...     NaN     NaN  \n",
       "1  http://www.nydailynews.com/news/national/resid...     NaN     NaN  \n",
       "2  http://www.fox19.com/story/34494432/house-oks-...     NaN     NaN  \n",
       "3  http://wfpl.org/amid-protests-blue-lives-matte...     NaN     NaN  \n",
       "4  http://www.dailycomet.com/news/20170213/lafour...     NaN     NaN  "
      ]
     },
     "execution_count": 5,
     "metadata": {},
     "output_type": "execute_result"
    }
   ],
   "source": [
    "df.head()"
   ]
  },
  {
   "cell_type": "code",
   "execution_count": 6,
   "metadata": {},
   "outputs": [],
   "source": [
    "df = df.dropna(subset=['Title']).reset_index(drop=True)"
   ]
  },
  {
   "cell_type": "code",
   "execution_count": 7,
   "metadata": {},
   "outputs": [
    {
     "data": {
      "text/html": [
       "<div>\n",
       "<style scoped>\n",
       "    .dataframe tbody tr th:only-of-type {\n",
       "        vertical-align: middle;\n",
       "    }\n",
       "\n",
       "    .dataframe tbody tr th {\n",
       "        vertical-align: top;\n",
       "    }\n",
       "\n",
       "    .dataframe thead th {\n",
       "        text-align: right;\n",
       "    }\n",
       "</style>\n",
       "<table border=\"1\" class=\"dataframe\">\n",
       "  <thead>\n",
       "    <tr style=\"text-align: right;\">\n",
       "      <th></th>\n",
       "      <th>Date</th>\n",
       "      <th>Title</th>\n",
       "      <th>Organization</th>\n",
       "      <th>City</th>\n",
       "      <th>State</th>\n",
       "      <th>URL</th>\n",
       "      <th>Keyword</th>\n",
       "      <th>Summary</th>\n",
       "    </tr>\n",
       "  </thead>\n",
       "  <tbody>\n",
       "    <tr>\n",
       "      <th>0</th>\n",
       "      <td>2/13/17 9:01</td>\n",
       "      <td>Pizza Hut driver who killed co-worker with sho...</td>\n",
       "      <td>LGBTQ Nation</td>\n",
       "      <td>Phoenix</td>\n",
       "      <td>AZ</td>\n",
       "      <td>http://www.lgbtqnation.com/2017/02/man-accused...</td>\n",
       "      <td>NaN</td>\n",
       "      <td>NaN</td>\n",
       "    </tr>\n",
       "    <tr>\n",
       "      <th>1</th>\n",
       "      <td>2/13/17 9:37</td>\n",
       "      <td>Residents of NJ township receiving KKK promoti...</td>\n",
       "      <td>New York Daily News</td>\n",
       "      <td>NaN</td>\n",
       "      <td>NaN</td>\n",
       "      <td>http://www.nydailynews.com/news/national/resid...</td>\n",
       "      <td>NaN</td>\n",
       "      <td>NaN</td>\n",
       "    </tr>\n",
       "    <tr>\n",
       "      <th>2</th>\n",
       "      <td>2/13/17 15:37</td>\n",
       "      <td>House OKs bill to expand Kentucky's hate crime...</td>\n",
       "      <td>FOX19</td>\n",
       "      <td>Cincinnati</td>\n",
       "      <td>OH</td>\n",
       "      <td>http://www.fox19.com/story/34494432/house-oks-...</td>\n",
       "      <td>NaN</td>\n",
       "      <td>NaN</td>\n",
       "    </tr>\n",
       "    <tr>\n",
       "      <th>3</th>\n",
       "      <td>2/13/17 16:56</td>\n",
       "      <td>Amid Protests, 'Blue Lives Matter' Bill Passes...</td>\n",
       "      <td>89.3 WFPL</td>\n",
       "      <td>Louisville</td>\n",
       "      <td>KY</td>\n",
       "      <td>http://wfpl.org/amid-protests-blue-lives-matte...</td>\n",
       "      <td>NaN</td>\n",
       "      <td>NaN</td>\n",
       "    </tr>\n",
       "    <tr>\n",
       "      <th>4</th>\n",
       "      <td>2/13/17 18:37</td>\n",
       "      <td>Lafourche inmates charged with hate crimes in ...</td>\n",
       "      <td>Daily Comet</td>\n",
       "      <td>Thibodaux</td>\n",
       "      <td>LA</td>\n",
       "      <td>http://www.dailycomet.com/news/20170213/lafour...</td>\n",
       "      <td>NaN</td>\n",
       "      <td>NaN</td>\n",
       "    </tr>\n",
       "  </tbody>\n",
       "</table>\n",
       "</div>"
      ],
      "text/plain": [
       "            Date                                              Title  \\\n",
       "0   2/13/17 9:01  Pizza Hut driver who killed co-worker with sho...   \n",
       "1   2/13/17 9:37  Residents of NJ township receiving KKK promoti...   \n",
       "2  2/13/17 15:37  House OKs bill to expand Kentucky's hate crime...   \n",
       "3  2/13/17 16:56  Amid Protests, 'Blue Lives Matter' Bill Passes...   \n",
       "4  2/13/17 18:37  Lafourche inmates charged with hate crimes in ...   \n",
       "\n",
       "          Organization        City State  \\\n",
       "0         LGBTQ Nation     Phoenix    AZ   \n",
       "1  New York Daily News         NaN   NaN   \n",
       "2                FOX19  Cincinnati    OH   \n",
       "3            89.3 WFPL  Louisville    KY   \n",
       "4          Daily Comet   Thibodaux    LA   \n",
       "\n",
       "                                                 URL Keyword Summary  \n",
       "0  http://www.lgbtqnation.com/2017/02/man-accused...     NaN     NaN  \n",
       "1  http://www.nydailynews.com/news/national/resid...     NaN     NaN  \n",
       "2  http://www.fox19.com/story/34494432/house-oks-...     NaN     NaN  \n",
       "3  http://wfpl.org/amid-protests-blue-lives-matte...     NaN     NaN  \n",
       "4  http://www.dailycomet.com/news/20170213/lafour...     NaN     NaN  "
      ]
     },
     "execution_count": 7,
     "metadata": {},
     "output_type": "execute_result"
    }
   ],
   "source": [
    "df.head()"
   ]
  },
  {
   "cell_type": "code",
   "execution_count": 8,
   "metadata": {},
   "outputs": [],
   "source": [
    "def clean_text(df):\n",
    "    df.columns = df.columns.str.strip()  # Clean column names\n",
    "    df['Title'] = df['Title'].apply(lambda x: str(x).lower())  # Lowercase\n",
    "    df['Title'] = df['Title'].str.replace(f\"[{string.punctuation}]\", \"\", regex=True)  # Remove punctuation\n",
    "    tokens = df['Title'].apply(lambda x: x.split())  # Tokenize\n",
    "    return tokens\n"
   ]
  },
  {
   "cell_type": "code",
   "execution_count": 11,
   "metadata": {},
   "outputs": [
    {
     "name": "stdout",
     "output_type": "stream",
     "text": [
      "<class 'pandas.core.series.Series'>\n"
     ]
    }
   ],
   "source": [
    "print(type(tokens))"
   ]
  },
  {
   "cell_type": "code",
   "execution_count": 13,
   "metadata": {},
   "outputs": [
    {
     "data": {
      "text/plain": [
       "0       [pizza, hut, driver, who, killed, coworker, wi...\n",
       "1       [residents, of, nj, township, receiving, kkk, ...\n",
       "2       [house, oks, bill, to, expand, kentuckys, hate...\n",
       "3       [amid, protests, blue, lives, matter, bill, pa...\n",
       "4       [lafourche, inmates, charged, with, hate, crim...\n",
       "                              ...                        \n",
       "6777    [police, rash, of, vandalism, on, margate, men...\n",
       "6778    [exstudent, accused, of, smearing, used, tampo...\n",
       "6779    [queensbury, woman, charged, with, hate, crime...\n",
       "6780    [hate, crime, hartford, student, accused, of, ...\n",
       "6781    [police, make, arrest, following, alleged, hat...\n",
       "Name: Title, Length: 6782, dtype: object"
      ]
     },
     "execution_count": 13,
     "metadata": {},
     "output_type": "execute_result"
    }
   ],
   "source": [
    "tokens=clean_text(df)\n",
    "tokens"
   ]
  },
  {
   "cell_type": "code",
   "execution_count": 14,
   "metadata": {},
   "outputs": [],
   "source": [
    "from tensorflow.keras.preprocessing.text import Tokenizer\n",
    "tokenizer=Tokenizer()\n",
    "tokenized_text=tokenizer.fit_on_texts(tokens) #builds the word index dictionary from text\n",
    "seq=tokenizer.texts_to_sequences(tokens) #converts text into sequences of word indices"
   ]
  },
  {
   "cell_type": "code",
   "execution_count": 15,
   "metadata": {},
   "outputs": [
    {
     "data": {
      "text/plain": [
       "[[3973, 3974, 450, 47, 88, 3975, 12, 2211, 103, 1370, 2803],\n",
       " [830, 4, 423, 1558, 2212, 470, 3976, 672],\n",
       " [257, 1846, 75, 5, 593, 3977, 1, 6, 36],\n",
       " [721, 898, 480, 274, 301, 75, 481, 634, 257],\n",
       " [3978, 2804, 16, 12, 1, 6, 3, 424, 19],\n",
       " [13, 722, 1, 2, 48, 594, 3979, 5, 401],\n",
       " [3980, 480, 274, 301, 75, 21, 1371, 2805, 5, 214, 3981, 173],\n",
       " [194, 320, 18, 402, 2806, 239, 15, 98, 38],\n",
       " [194,\n",
       "  320,\n",
       "  18,\n",
       "  402,\n",
       "  2806,\n",
       "  239,\n",
       "  15,\n",
       "  98,\n",
       "  38,\n",
       "  635,\n",
       "  174,\n",
       "  556,\n",
       "  557,\n",
       "  14,\n",
       "  498,\n",
       "  558,\n",
       "  275,\n",
       "  42],\n",
       " [33, 174, 673, 302, 2, 1372, 2807, 3, 2213]]"
      ]
     },
     "execution_count": 15,
     "metadata": {},
     "output_type": "execute_result"
    }
   ],
   "source": [
    "seq[:10]"
   ]
  },
  {
   "cell_type": "code",
   "execution_count": 16,
   "metadata": {},
   "outputs": [],
   "source": [
    "x=[]\n",
    "y=[]\n",
    "\n",
    "for i in seq:\n",
    "    if len(i)>1:\n",
    "        for j in range(1,len(i)):\n",
    "            x.append(i[:j])\n",
    "            y.append(i[j])"
   ]
  },
  {
   "cell_type": "code",
   "execution_count": 17,
   "metadata": {},
   "outputs": [],
   "source": [
    "#padding sequences\n",
    "x=tf.keras.preprocessing.sequence.pad_sequences(x,maxlen=50)"
   ]
  },
  {
   "cell_type": "code",
   "execution_count": 18,
   "metadata": {},
   "outputs": [
    {
     "data": {
      "text/plain": [
       "array([   0,    0,    0,    0,    0,    0,    0,    0,    0,    0,    0,\n",
       "          0,    0,    0,    0,    0,    0,    0,    0,    0,    0,    0,\n",
       "          0,    0,    0,    0,    0,    0,    0,    0,    0,    0,    0,\n",
       "          0,    0,    0,    0,    0,    0,    0,    0,    0,    0,    0,\n",
       "          0,    0,    0,    0,    0, 3973], dtype=int32)"
      ]
     },
     "execution_count": 18,
     "metadata": {},
     "output_type": "execute_result"
    }
   ],
   "source": [
    "x[0]"
   ]
  },
  {
   "cell_type": "code",
   "execution_count": 19,
   "metadata": {},
   "outputs": [],
   "source": [
    "y=tf.keras.utils.to_categorical(y)"
   ]
  },
  {
   "cell_type": "code",
   "execution_count": 20,
   "metadata": {},
   "outputs": [
    {
     "data": {
      "text/plain": [
       "array([[0., 0., 0., ..., 0., 0., 0.],\n",
       "       [0., 0., 0., ..., 0., 0., 0.],\n",
       "       [0., 0., 0., ..., 0., 0., 0.],\n",
       "       ...,\n",
       "       [0., 0., 0., ..., 0., 0., 0.],\n",
       "       [0., 0., 0., ..., 0., 0., 0.],\n",
       "       [0., 0., 0., ..., 0., 0., 0.]])"
      ]
     },
     "execution_count": 20,
     "metadata": {},
     "output_type": "execute_result"
    }
   ],
   "source": [
    "y"
   ]
  },
  {
   "cell_type": "code",
   "execution_count": 21,
   "metadata": {},
   "outputs": [
    {
     "data": {
      "text/plain": [
       "(64701, 7569)"
      ]
     },
     "execution_count": 21,
     "metadata": {},
     "output_type": "execute_result"
    }
   ],
   "source": [
    "y.shape"
   ]
  },
  {
   "cell_type": "code",
   "execution_count": 22,
   "metadata": {},
   "outputs": [
    {
     "data": {
      "text/plain": [
       "7569"
      ]
     },
     "execution_count": 22,
     "metadata": {},
     "output_type": "execute_result"
    }
   ],
   "source": [
    "vocab_size= len(tokenizer.word_index) +1 \n",
    "vocab_size"
   ]
  },
  {
   "cell_type": "code",
   "execution_count": 23,
   "metadata": {},
   "outputs": [],
   "source": [
    "from tensorflow.keras.layers import LSTM,Dense,Embedding\n",
    "from tensorflow.keras.models import Sequential"
   ]
  },
  {
   "cell_type": "code",
   "execution_count": 24,
   "metadata": {},
   "outputs": [],
   "source": [
    "model = Sequential(\n",
    "    [\n",
    "        Embedding(vocab_size,50),\n",
    "        LSTM(100,return_sequences=True),\n",
    "        LSTM(100),\n",
    "        Dense(100,activation='relu'),\n",
    "        Dense(vocab_size,activation='softmax')\n",
    "    ]\n",
    ")"
   ]
  },
  {
   "cell_type": "code",
   "execution_count": 25,
   "metadata": {},
   "outputs": [
    {
     "data": {
      "text/html": [
       "<pre style=\"white-space:pre;overflow-x:auto;line-height:normal;font-family:Menlo,'DejaVu Sans Mono',consolas,'Courier New',monospace\"><span style=\"font-weight: bold\">Model: \"sequential\"</span>\n",
       "</pre>\n"
      ],
      "text/plain": [
       "\u001b[1mModel: \"sequential\"\u001b[0m\n"
      ]
     },
     "metadata": {},
     "output_type": "display_data"
    },
    {
     "data": {
      "text/html": [
       "<pre style=\"white-space:pre;overflow-x:auto;line-height:normal;font-family:Menlo,'DejaVu Sans Mono',consolas,'Courier New',monospace\">┏━━━━━━━━━━━━━━━━━━━━━━━━━━━━━━━━━┳━━━━━━━━━━━━━━━━━━━━━━━━┳━━━━━━━━━━━━━━━┓\n",
       "┃<span style=\"font-weight: bold\"> Layer (type)                    </span>┃<span style=\"font-weight: bold\"> Output Shape           </span>┃<span style=\"font-weight: bold\">       Param # </span>┃\n",
       "┡━━━━━━━━━━━━━━━━━━━━━━━━━━━━━━━━━╇━━━━━━━━━━━━━━━━━━━━━━━━╇━━━━━━━━━━━━━━━┩\n",
       "│ embedding (<span style=\"color: #0087ff; text-decoration-color: #0087ff\">Embedding</span>)           │ ?                      │   <span style=\"color: #00af00; text-decoration-color: #00af00\">0</span> (unbuilt) │\n",
       "├─────────────────────────────────┼────────────────────────┼───────────────┤\n",
       "│ lstm (<span style=\"color: #0087ff; text-decoration-color: #0087ff\">LSTM</span>)                     │ ?                      │   <span style=\"color: #00af00; text-decoration-color: #00af00\">0</span> (unbuilt) │\n",
       "├─────────────────────────────────┼────────────────────────┼───────────────┤\n",
       "│ lstm_1 (<span style=\"color: #0087ff; text-decoration-color: #0087ff\">LSTM</span>)                   │ ?                      │   <span style=\"color: #00af00; text-decoration-color: #00af00\">0</span> (unbuilt) │\n",
       "├─────────────────────────────────┼────────────────────────┼───────────────┤\n",
       "│ dense (<span style=\"color: #0087ff; text-decoration-color: #0087ff\">Dense</span>)                   │ ?                      │   <span style=\"color: #00af00; text-decoration-color: #00af00\">0</span> (unbuilt) │\n",
       "├─────────────────────────────────┼────────────────────────┼───────────────┤\n",
       "│ dense_1 (<span style=\"color: #0087ff; text-decoration-color: #0087ff\">Dense</span>)                 │ ?                      │   <span style=\"color: #00af00; text-decoration-color: #00af00\">0</span> (unbuilt) │\n",
       "└─────────────────────────────────┴────────────────────────┴───────────────┘\n",
       "</pre>\n"
      ],
      "text/plain": [
       "┏━━━━━━━━━━━━━━━━━━━━━━━━━━━━━━━━━┳━━━━━━━━━━━━━━━━━━━━━━━━┳━━━━━━━━━━━━━━━┓\n",
       "┃\u001b[1m \u001b[0m\u001b[1mLayer (type)                   \u001b[0m\u001b[1m \u001b[0m┃\u001b[1m \u001b[0m\u001b[1mOutput Shape          \u001b[0m\u001b[1m \u001b[0m┃\u001b[1m \u001b[0m\u001b[1m      Param #\u001b[0m\u001b[1m \u001b[0m┃\n",
       "┡━━━━━━━━━━━━━━━━━━━━━━━━━━━━━━━━━╇━━━━━━━━━━━━━━━━━━━━━━━━╇━━━━━━━━━━━━━━━┩\n",
       "│ embedding (\u001b[38;5;33mEmbedding\u001b[0m)           │ ?                      │   \u001b[38;5;34m0\u001b[0m (unbuilt) │\n",
       "├─────────────────────────────────┼────────────────────────┼───────────────┤\n",
       "│ lstm (\u001b[38;5;33mLSTM\u001b[0m)                     │ ?                      │   \u001b[38;5;34m0\u001b[0m (unbuilt) │\n",
       "├─────────────────────────────────┼────────────────────────┼───────────────┤\n",
       "│ lstm_1 (\u001b[38;5;33mLSTM\u001b[0m)                   │ ?                      │   \u001b[38;5;34m0\u001b[0m (unbuilt) │\n",
       "├─────────────────────────────────┼────────────────────────┼───────────────┤\n",
       "│ dense (\u001b[38;5;33mDense\u001b[0m)                   │ ?                      │   \u001b[38;5;34m0\u001b[0m (unbuilt) │\n",
       "├─────────────────────────────────┼────────────────────────┼───────────────┤\n",
       "│ dense_1 (\u001b[38;5;33mDense\u001b[0m)                 │ ?                      │   \u001b[38;5;34m0\u001b[0m (unbuilt) │\n",
       "└─────────────────────────────────┴────────────────────────┴───────────────┘\n"
      ]
     },
     "metadata": {},
     "output_type": "display_data"
    },
    {
     "data": {
      "text/html": [
       "<pre style=\"white-space:pre;overflow-x:auto;line-height:normal;font-family:Menlo,'DejaVu Sans Mono',consolas,'Courier New',monospace\"><span style=\"font-weight: bold\"> Total params: </span><span style=\"color: #00af00; text-decoration-color: #00af00\">0</span> (0.00 B)\n",
       "</pre>\n"
      ],
      "text/plain": [
       "\u001b[1m Total params: \u001b[0m\u001b[38;5;34m0\u001b[0m (0.00 B)\n"
      ]
     },
     "metadata": {},
     "output_type": "display_data"
    },
    {
     "data": {
      "text/html": [
       "<pre style=\"white-space:pre;overflow-x:auto;line-height:normal;font-family:Menlo,'DejaVu Sans Mono',consolas,'Courier New',monospace\"><span style=\"font-weight: bold\"> Trainable params: </span><span style=\"color: #00af00; text-decoration-color: #00af00\">0</span> (0.00 B)\n",
       "</pre>\n"
      ],
      "text/plain": [
       "\u001b[1m Trainable params: \u001b[0m\u001b[38;5;34m0\u001b[0m (0.00 B)\n"
      ]
     },
     "metadata": {},
     "output_type": "display_data"
    },
    {
     "data": {
      "text/html": [
       "<pre style=\"white-space:pre;overflow-x:auto;line-height:normal;font-family:Menlo,'DejaVu Sans Mono',consolas,'Courier New',monospace\"><span style=\"font-weight: bold\"> Non-trainable params: </span><span style=\"color: #00af00; text-decoration-color: #00af00\">0</span> (0.00 B)\n",
       "</pre>\n"
      ],
      "text/plain": [
       "\u001b[1m Non-trainable params: \u001b[0m\u001b[38;5;34m0\u001b[0m (0.00 B)\n"
      ]
     },
     "metadata": {},
     "output_type": "display_data"
    }
   ],
   "source": [
    "model.summary()"
   ]
  },
  {
   "cell_type": "code",
   "execution_count": 26,
   "metadata": {},
   "outputs": [],
   "source": [
    "model.compile(loss='categorical_crossentropy',optimizer='adam',metrics=['accuracy'])"
   ]
  },
  {
   "cell_type": "code",
   "execution_count": 27,
   "metadata": {},
   "outputs": [
    {
     "name": "stdout",
     "output_type": "stream",
     "text": [
      "Epoch 1/100\n",
      "\u001b[1m1618/1618\u001b[0m \u001b[32m━━━━━━━━━━━━━━━━━━━━\u001b[0m\u001b[37m\u001b[0m \u001b[1m123s\u001b[0m 75ms/step - accuracy: 0.0746 - loss: 7.0341 - val_accuracy: 0.1211 - val_loss: 6.5658\n",
      "Epoch 2/100\n",
      "\u001b[1m1618/1618\u001b[0m \u001b[32m━━━━━━━━━━━━━━━━━━━━\u001b[0m\u001b[37m\u001b[0m \u001b[1m120s\u001b[0m 74ms/step - accuracy: 0.1092 - loss: 6.2762 - val_accuracy: 0.1350 - val_loss: 6.5813\n",
      "Epoch 3/100\n",
      "\u001b[1m1618/1618\u001b[0m \u001b[32m━━━━━━━━━━━━━━━━━━━━\u001b[0m\u001b[37m\u001b[0m \u001b[1m310s\u001b[0m 191ms/step - accuracy: 0.1281 - loss: 6.0236 - val_accuracy: 0.1454 - val_loss: 6.6516\n",
      "Epoch 4/100\n",
      "\u001b[1m1618/1618\u001b[0m \u001b[32m━━━━━━━━━━━━━━━━━━━━\u001b[0m\u001b[37m\u001b[0m \u001b[1m114s\u001b[0m 70ms/step - accuracy: 0.1389 - loss: 5.7792 - val_accuracy: 0.1540 - val_loss: 6.7149\n",
      "Epoch 5/100\n",
      "\u001b[1m1618/1618\u001b[0m \u001b[32m━━━━━━━━━━━━━━━━━━━━\u001b[0m\u001b[37m\u001b[0m \u001b[1m429s\u001b[0m 265ms/step - accuracy: 0.1552 - loss: 5.5424 - val_accuracy: 0.1556 - val_loss: 6.8340\n",
      "Epoch 6/100\n",
      "\u001b[1m1618/1618\u001b[0m \u001b[32m━━━━━━━━━━━━━━━━━━━━\u001b[0m\u001b[37m\u001b[0m \u001b[1m114s\u001b[0m 70ms/step - accuracy: 0.1725 - loss: 5.3234 - val_accuracy: 0.1578 - val_loss: 7.0187\n"
     ]
    }
   ],
   "source": [
    "history=model.fit(x,y,epochs=100,validation_split=0.2,callbacks=[tf.keras.callbacks.EarlyStopping(monitor='val_loss'\n",
    "                                                                                    ,patience=5,restore_best_weights=True)])"
   ]
  },
  {
   "cell_type": "code",
   "execution_count": null,
   "metadata": {},
   "outputs": [],
   "source": []
  }
 ],
 "metadata": {
  "kernelspec": {
   "display_name": "base",
   "language": "python",
   "name": "python3"
  },
  "language_info": {
   "codemirror_mode": {
    "name": "ipython",
    "version": 3
   },
   "file_extension": ".py",
   "mimetype": "text/x-python",
   "name": "python",
   "nbconvert_exporter": "python",
   "pygments_lexer": "ipython3",
   "version": "3.11.5"
  }
 },
 "nbformat": 4,
 "nbformat_minor": 2
}
