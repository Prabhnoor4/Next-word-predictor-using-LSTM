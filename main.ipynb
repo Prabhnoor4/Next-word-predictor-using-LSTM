{
 "cells": [
  {
   "cell_type": "code",
   "execution_count": 1,
   "metadata": {},
   "outputs": [],
   "source": [
    "import pandas as pd\n",
    "import numpy as np"
   ]
  },
  {
   "cell_type": "code",
   "execution_count": 40,
   "metadata": {},
   "outputs": [
    {
     "name": "stdout",
     "output_type": "stream",
     "text": [
      "['Date', 'Title', 'Organization', 'City', 'State', 'URL', 'Keyword', 'Summary']\n"
     ]
    }
   ],
   "source": [
    "df=pd.read_csv(\"/Users/prabhnoorsingh/Downloads/US_Crime_Data.csv\")\n",
    "print(df.columns.to_list())"
   ]
  },
  {
   "cell_type": "code",
   "execution_count": 41,
   "metadata": {},
   "outputs": [
    {
     "data": {
      "text/html": [
       "<div>\n",
       "<style scoped>\n",
       "    .dataframe tbody tr th:only-of-type {\n",
       "        vertical-align: middle;\n",
       "    }\n",
       "\n",
       "    .dataframe tbody tr th {\n",
       "        vertical-align: top;\n",
       "    }\n",
       "\n",
       "    .dataframe thead th {\n",
       "        text-align: right;\n",
       "    }\n",
       "</style>\n",
       "<table border=\"1\" class=\"dataframe\">\n",
       "  <thead>\n",
       "    <tr style=\"text-align: right;\">\n",
       "      <th></th>\n",
       "      <th>Date</th>\n",
       "      <th>Title</th>\n",
       "      <th>Organization</th>\n",
       "      <th>City</th>\n",
       "      <th>State</th>\n",
       "      <th>URL</th>\n",
       "      <th>Keyword</th>\n",
       "      <th>Summary</th>\n",
       "    </tr>\n",
       "  </thead>\n",
       "  <tbody>\n",
       "    <tr>\n",
       "      <th>0</th>\n",
       "      <td>2/13/17 9:01</td>\n",
       "      <td>Pizza Hut driver who killed co-worker with sho...</td>\n",
       "      <td>LGBTQ Nation</td>\n",
       "      <td>Phoenix</td>\n",
       "      <td>AZ</td>\n",
       "      <td>http://www.lgbtqnation.com/2017/02/man-accused...</td>\n",
       "      <td>NaN</td>\n",
       "      <td>NaN</td>\n",
       "    </tr>\n",
       "    <tr>\n",
       "      <th>1</th>\n",
       "      <td>2/13/17 9:37</td>\n",
       "      <td>Residents of NJ township receiving KKK promoti...</td>\n",
       "      <td>New York Daily News</td>\n",
       "      <td>NaN</td>\n",
       "      <td>NaN</td>\n",
       "      <td>http://www.nydailynews.com/news/national/resid...</td>\n",
       "      <td>NaN</td>\n",
       "      <td>NaN</td>\n",
       "    </tr>\n",
       "    <tr>\n",
       "      <th>2</th>\n",
       "      <td>2/13/17 15:37</td>\n",
       "      <td>House OKs bill to expand Kentucky's hate crime...</td>\n",
       "      <td>FOX19</td>\n",
       "      <td>Cincinnati</td>\n",
       "      <td>OH</td>\n",
       "      <td>http://www.fox19.com/story/34494432/house-oks-...</td>\n",
       "      <td>NaN</td>\n",
       "      <td>NaN</td>\n",
       "    </tr>\n",
       "    <tr>\n",
       "      <th>3</th>\n",
       "      <td>2/13/17 16:56</td>\n",
       "      <td>Amid Protests, 'Blue Lives Matter' Bill Passes...</td>\n",
       "      <td>89.3 WFPL</td>\n",
       "      <td>Louisville</td>\n",
       "      <td>KY</td>\n",
       "      <td>http://wfpl.org/amid-protests-blue-lives-matte...</td>\n",
       "      <td>NaN</td>\n",
       "      <td>NaN</td>\n",
       "    </tr>\n",
       "    <tr>\n",
       "      <th>4</th>\n",
       "      <td>2/13/17 18:37</td>\n",
       "      <td>Lafourche inmates charged with hate crimes in ...</td>\n",
       "      <td>Daily Comet</td>\n",
       "      <td>Thibodaux</td>\n",
       "      <td>LA</td>\n",
       "      <td>http://www.dailycomet.com/news/20170213/lafour...</td>\n",
       "      <td>NaN</td>\n",
       "      <td>NaN</td>\n",
       "    </tr>\n",
       "  </tbody>\n",
       "</table>\n",
       "</div>"
      ],
      "text/plain": [
       "            Date                                              Title  \\\n",
       "0   2/13/17 9:01  Pizza Hut driver who killed co-worker with sho...   \n",
       "1   2/13/17 9:37  Residents of NJ township receiving KKK promoti...   \n",
       "2  2/13/17 15:37  House OKs bill to expand Kentucky's hate crime...   \n",
       "3  2/13/17 16:56  Amid Protests, 'Blue Lives Matter' Bill Passes...   \n",
       "4  2/13/17 18:37  Lafourche inmates charged with hate crimes in ...   \n",
       "\n",
       "          Organization        City State  \\\n",
       "0         LGBTQ Nation     Phoenix    AZ   \n",
       "1  New York Daily News         NaN   NaN   \n",
       "2                FOX19  Cincinnati    OH   \n",
       "3            89.3 WFPL  Louisville    KY   \n",
       "4          Daily Comet   Thibodaux    LA   \n",
       "\n",
       "                                                 URL Keyword Summary  \n",
       "0  http://www.lgbtqnation.com/2017/02/man-accused...     NaN     NaN  \n",
       "1  http://www.nydailynews.com/news/national/resid...     NaN     NaN  \n",
       "2  http://www.fox19.com/story/34494432/house-oks-...     NaN     NaN  \n",
       "3  http://wfpl.org/amid-protests-blue-lives-matte...     NaN     NaN  \n",
       "4  http://www.dailycomet.com/news/20170213/lafour...     NaN     NaN  "
      ]
     },
     "execution_count": 41,
     "metadata": {},
     "output_type": "execute_result"
    }
   ],
   "source": [
    "df.head()"
   ]
  },
  {
   "cell_type": "code",
   "execution_count": 42,
   "metadata": {},
   "outputs": [],
   "source": [
    "df= df['Title']\n",
    "df=df.dropna().reset_index(drop=True)"
   ]
  },
  {
   "cell_type": "code",
   "execution_count": 43,
   "metadata": {},
   "outputs": [
    {
     "data": {
      "text/plain": [
       "0    Pizza Hut driver who killed co-worker with sho...\n",
       "1    Residents of NJ township receiving KKK promoti...\n",
       "2    House OKs bill to expand Kentucky's hate crime...\n",
       "3    Amid Protests, 'Blue Lives Matter' Bill Passes...\n",
       "4    Lafourche inmates charged with hate crimes in ...\n",
       "Name: Title, dtype: object"
      ]
     },
     "execution_count": 43,
     "metadata": {},
     "output_type": "execute_result"
    }
   ],
   "source": [
    "df.head()"
   ]
  },
  {
   "cell_type": "code",
   "execution_count": 44,
   "metadata": {},
   "outputs": [
    {
     "data": {
      "text/plain": [
       "'Pizza Hut driver who killed co-worker with shotgun found mentally competent'"
      ]
     },
     "execution_count": 44,
     "metadata": {},
     "output_type": "execute_result"
    }
   ],
   "source": [
    "df[0]\n"
   ]
  },
  {
   "cell_type": "code",
   "execution_count": null,
   "metadata": {},
   "outputs": [],
   "source": []
  }
 ],
 "metadata": {
  "kernelspec": {
   "display_name": "base",
   "language": "python",
   "name": "python3"
  },
  "language_info": {
   "codemirror_mode": {
    "name": "ipython",
    "version": 3
   },
   "file_extension": ".py",
   "mimetype": "text/x-python",
   "name": "python",
   "nbconvert_exporter": "python",
   "pygments_lexer": "ipython3",
   "version": "3.11.5"
  }
 },
 "nbformat": 4,
 "nbformat_minor": 2
}
